{
 "cells": [
  {
   "cell_type": "markdown",
   "metadata": {},
   "source": [
    "# Assignments 1\n",
    "Make a functlon for toting in a number and print fibonacci Series"
   ]
  },
  {
   "cell_type": "code",
   "execution_count": 1,
   "metadata": {},
   "outputs": [],
   "source": [
    "def fibonacci(value):\n",
    "    a,b = 0,1 # initial values \n",
    "    while b < value: # loop till the value given by the user\n",
    "        print(b) # print the series value\n",
    "        a,b = b, a+b # fibonacci series formula "
   ]
  },
  {
   "cell_type": "code",
   "execution_count": 2,
   "metadata": {},
   "outputs": [
    {
     "name": "stdout",
     "output_type": "stream",
     "text": [
      "1\n",
      "1\n",
      "2\n",
      "3\n",
      "5\n",
      "8\n",
      "13\n",
      "21\n",
      "34\n",
      "55\n",
      "89\n"
     ]
    }
   ],
   "source": [
    "fibonacci(100)"
   ]
  },
  {
   "cell_type": "markdown",
   "metadata": {},
   "source": [
    "# Assignments 2"
   ]
  },
  {
   "cell_type": "code",
   "execution_count": 1,
   "metadata": {},
   "outputs": [
    {
     "name": "stdout",
     "output_type": "stream",
     "text": [
      "b'I love LetsUpgrade'\n",
      "-----------------------------\n",
      "b'\\n\\nWe all love Python Classes with LU'\n"
     ]
    }
   ],
   "source": [
    "# file handling assignment\n",
    "file = open(\"file.txt\",\"w+b\") # to open the file\n",
    "text = bytes(\"I love LetsUpgrade\", \"ascii\") # to write the file\n",
    "file.write(text)\n",
    "file.close()\n",
    "\n",
    "file = open(\"file.txt\",\"r+b\")\n",
    "print(file.read()) # to read the file\n",
    "print(\"-----------------------------\")\n",
    "file.close()\n",
    "\n",
    "file = open(\"file.txt\",\"w+b\")\n",
    "text = bytes(\"\\n\\nWe all love Python Classes with LU\", \"ascii\") # to write the file\n",
    "file.write(text)\n",
    "file.close()\n",
    "\n",
    "with open(\"file.txt\",\"r+b\") as file:\n",
    "    print(file.read()) # to read the file"
   ]
  },
  {
   "cell_type": "markdown",
   "metadata": {},
   "source": [
    "# Assignments 3\n",
    "Make a static Movie Recommender system"
   ]
  },
  {
   "cell_type": "code",
   "execution_count": 4,
   "metadata": {},
   "outputs": [],
   "source": [
    "import random\n",
    "def MovieRecommend():\n",
    "    genre= int(input(\"Please insert number of genre given below\\nAction=1 ,Adventure=2 , Animation=3 ,Biography=4, Mystery=5, Sci-Fi=6 :\\n\"))\n",
    "\n",
    "    while genre == 0 or genre >= 7:\n",
    "        genre= int(input(\"Please insert number of genre given below\\nAction=1 ,Adventure=2 , Animation=3 ,Biography=4, Mystery=5, Sci-Fi=6 :\\n\"))\n",
    "\n",
    "        #print(\"Please insert only given number in msg!!!\")\n",
    "    else:\n",
    "        if genre == 1:\n",
    "            Action = ['Extraction', 'Baaghi3', 'Drive', 'War', 'Saaho', 'Bloodshot', 'GaddalakondaGanesh', 'Kaithi', '6Underground', 'AvengersEndgame', 'JumanjiTheNextLevel', 'TerminatorDarkFate']\n",
    "            return random.choices(Action, k=4)\n",
    "        elif genre == 2:\n",
    "            Adventure = ['MortalEngines', 'FantasticBeasts', 'Fast&Furious', 'Maleficent', 'X-Men', 'SpiderMan','JurassicWorld','Venom','CaptainMarvel']\n",
    "            return random.choices(Adventure, k=4)\n",
    "        elif genre == 3:\n",
    "            Animation = ['Wonder Woman: Bloodlines','Onward','Frozen II','Superman: Red Son','Aladdin (2019)','Spies in Disguise','Chhota Bheem Kung Fu Dhamaka','The Willoughbys','The Lion King','Dora and the Lost City of Gold','Pokémon: Mewtwo Strikes Back—Evolution','Reign of the Supermen','Motu Patlu - King of Kings','How to Train Your Dragon: The Hidden World','Alita: Battle Angel','Dumbo']\n",
    "            return random.choices(Animation, k=4)\n",
    "        elif genre == 4:\n",
    "            Biography = ['Chhapaak','Baaghi 3','Bohemian Rhapsody','First Man','Bulbbul','Bulbbul','The Dirt','Dolemite Is My Name','The Irishman','12 Years a Slave','M.S. Dhoni: The Untold Story','Hidden Figures','A Beautiful Day in the Neighborhood','Axone','Sully: Miracle on the Hudson','The King','The Wolf of Wall Street']\n",
    "            return random.choices(Biography, k=4)\n",
    "        elif genre == 5:\n",
    "            Mystery = ['The Body','Bypass Road','Badla','Forgotten','Pari','Knives Out','Ittefaq','In the Shadow of the Moon','Detective Byomkesh Bakshy!','Rattlesnake','Dora and the Lost City of Gold','Nancy Drew and the Hidden Staircase','Crooked House','The Last Thing He Wanted','Searching','Murder Mystery']\n",
    "            return random.choices(Mystery, k=4)\n",
    "        elif genre == 6:\n",
    "            SciFi = ['Men in Black: International','Mortal Engines','Flatliners','Annihilation','Ready Player One','Bird Box','24','A Quiet Place','Venom','Spider-Man: Far From Home','Rampage','X-Men: Dark Phoenix','Maze Runner: The Death Cure','Jurassic World: Fallen Kingdom','The Predator','Life']\n",
    "            return random.choices(Sci-Fi, k=4)"
   ]
  },
  {
   "cell_type": "code",
   "execution_count": 5,
   "metadata": {
    "scrolled": true
   },
   "outputs": [
    {
     "name": "stdout",
     "output_type": "stream",
     "text": [
      "Please insert number of genre given below\n",
      "Action=1 ,Adventure=2 , Animation=3 ,Biography=4, Mystery=5, Sci-Fi=6 :\n",
      "2\n"
     ]
    },
    {
     "data": {
      "text/plain": [
       "['Fast&Furious', 'Maleficent', 'X-Men', 'X-Men']"
      ]
     },
     "execution_count": 5,
     "metadata": {},
     "output_type": "execute_result"
    }
   ],
   "source": [
    "MovieRecommend()"
   ]
  },
  {
   "cell_type": "code",
   "execution_count": 1,
   "metadata": {},
   "outputs": [],
   "source": [
    "import random\n",
    "\n",
    "Action = ['Extraction', 'Baaghi3', 'Drive', 'War', 'Saaho', 'Bloodshot', 'GaddalakondaGanesh', 'Kaithi', '6Underground', 'AvengersEndgame', 'JumanjiTheNextLevel', 'TerminatorDarkFate']\n",
    "Adventure = ['MortalEngines', 'FantasticBeasts', 'Fast&Furious', 'Maleficent', 'X-Men', 'SpiderMan','JurassicWorld','Venom','CaptainMarvel']\n",
    "Animation = ['Wonder Woman: Bloodlines','Onward','Frozen II','Superman: Red Son','Aladdin (2019)','Spies in Disguise','Chhota Bheem Kung Fu Dhamaka','The Willoughbys','The Lion King','Dora and the Lost City of Gold','Pokémon: Mewtwo Strikes Back—Evolution','Reign of the Supermen','Motu Patlu - King of Kings','How to Train Your Dragon: The Hidden World','Alita: Battle Angel','Dumbo']\n",
    "Biography = ['Chhapaak','Baaghi 3','Bohemian Rhapsody','First Man','Bulbbul','Bulbbul','The Dirt','Dolemite Is My Name','The Irishman','12 Years a Slave','M.S. Dhoni: The Untold Story','Hidden Figures','A Beautiful Day in the Neighborhood','Axone','Sully: Miracle on the Hudson','The King','The Wolf of Wall Street']\n",
    "Mystery = ['The Body','Bypass Road','Badla','Forgotten','Pari','Knives Out','Ittefaq','In the Shadow of the Moon','Detective Byomkesh Bakshy!','Rattlesnake','Dora and the Lost City of Gold','Nancy Drew and the Hidden Staircase','Crooked House','The Last Thing He Wanted','Searching','Murder Mystery']\n",
    "SciFi = ['Men in Black: International','Mortal Engines','Flatliners','Annihilation','Ready Player One','Bird Box','24','A Quiet Place','Venom','Spider-Man: Far From Home','Rampage','X-Men: Dark Phoenix','Maze Runner: The Death Cure','Jurassic World: Fallen Kingdom','The Predator','Life']\n",
    "\n",
    "def MovieRecommend(*arg):                        \n",
    "    for value in arg:\n",
    "        print(random.choices(value, k=4))"
   ]
  },
  {
   "cell_type": "code",
   "execution_count": 2,
   "metadata": {},
   "outputs": [
    {
     "name": "stdout",
     "output_type": "stream",
     "text": [
      "['Bohemian Rhapsody', 'A Beautiful Day in the Neighborhood', 'M.S. Dhoni: The Untold Story', 'Baaghi 3']\n"
     ]
    }
   ],
   "source": [
    "MovieRecommend(Biography)"
   ]
  },
  {
   "cell_type": "code",
   "execution_count": null,
   "metadata": {},
   "outputs": [],
   "source": []
  }
 ],
 "metadata": {
  "kernelspec": {
   "display_name": "Python 3",
   "language": "python",
   "name": "python3"
  },
  "language_info": {
   "codemirror_mode": {
    "name": "ipython",
    "version": 3
   },
   "file_extension": ".py",
   "mimetype": "text/x-python",
   "name": "python",
   "nbconvert_exporter": "python",
   "pygments_lexer": "ipython3",
   "version": "3.7.3"
  }
 },
 "nbformat": 4,
 "nbformat_minor": 2
}
