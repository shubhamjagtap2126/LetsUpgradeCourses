{
 "cells": [
  {
   "cell_type": "markdown",
   "metadata": {},
   "source": [
    "# Assignment Day 3 | Data Science 101 B1"
   ]
  },
  {
   "cell_type": "code",
   "execution_count": 1,
   "metadata": {},
   "outputs": [
    {
     "data": {
      "text/plain": [
       "array([ 1,  4,  7, 10, 13, 16, 19, 22, 25, 28, 31, 34, 37, 40, 43, 46, 49])"
      ]
     },
     "execution_count": 1,
     "metadata": {},
     "output_type": "execute_result"
    }
   ],
   "source": [
    "# Questions 1:\n",
    "import numpy as np\n",
    "# Create a numpy array starting from 2 till 50 with a stepsize of 3.\n",
    "np.arange(1,50,3)"
   ]
  },
  {
   "cell_type": "code",
   "execution_count": 2,
   "metadata": {},
   "outputs": [
    {
     "name": "stdout",
     "output_type": "stream",
     "text": [
      "insert list 1 with , : 2,1,5,3,4\n",
      "insert list 2 with , : 7,6,9,8,10\n",
      "[ 2  1  5  3  4  7  6  9  8 10]\n",
      "[1, 2, 3, 4, 5]\n",
      "[6, 7, 8, 9, 10]\n",
      "[ 1  2  3  4  5  6  7  8  9 10]\n"
     ]
    }
   ],
   "source": [
    "# Questions 2:\n",
    "# Accept two lists of 5 elements each from the user. Convert them to numpy arrays. Concatenate these arrays and print it. Also sort these arrays and print it.\n",
    "# 2,1,5,3,4\n",
    "# 7,6,9,8,10\n",
    "x = input('insert list 1 with , : ')\n",
    "x = x.split(\",\")\n",
    "x = [int(i) for i in x]\n",
    "y = input('insert list 2 with , : ')\n",
    "y = y.split(\",\")\n",
    "y = [int(i) for i in y]\n",
    "\n",
    "print(np.concatenate([x,y]))\n",
    "\n",
    "x.sort()\n",
    "y.sort()\n",
    "print(x)\n",
    "print(y)\n",
    "\n",
    "print(np.concatenate([x,y]))"
   ]
  },
  {
   "cell_type": "code",
   "execution_count": 3,
   "metadata": {},
   "outputs": [
    {
     "name": "stdout",
     "output_type": "stream",
     "text": [
      "[[ 0  1  2  3]\n",
      " [ 4  5  6  7]\n",
      " [ 8  9 10 11]]\n",
      "dimensions 2\n",
      "size (3, 4)\n",
      "===================================\n",
      "[ 0  1  2  3  4  5  6  7  8  9 10 11]\n",
      "dimensions 1\n",
      "size (12,)\n",
      "===================================\n"
     ]
    }
   ],
   "source": [
    "# Questions 3:\n",
    "# Write a code snippet to find the dimensions of a ndarray and its size.\n",
    "x = np.arange(12).reshape(3,4) # 2D array\n",
    "y = np.arange(12) # 1D array\n",
    "\n",
    "\n",
    "def dimAndSize(m):\n",
    "    print(m)\n",
    "    print('dimensions', m.ndim)\n",
    "    print('size',m.shape)\n",
    "    print('===================================')\n",
    "\n",
    "dimAndSize(x)\n",
    "dimAndSize(y)"
   ]
  },
  {
   "cell_type": "code",
   "execution_count": 4,
   "metadata": {},
   "outputs": [
    {
     "name": "stdout",
     "output_type": "stream",
     "text": [
      "[ 1  4  7 10 13 16 19 22 25 28 31 34 37 40 43 46 49]\n",
      "dimensions 1\n",
      "===================================\n",
      "[[ 1  4  7 10 13 16 19 22 25 28 31 34 37 40 43 46 49]]\n",
      "dimensions 2\n",
      "[[ 1]\n",
      " [ 4]\n",
      " [ 7]\n",
      " [10]\n",
      " [13]\n",
      " [16]\n",
      " [19]\n",
      " [22]\n",
      " [25]\n",
      " [28]\n",
      " [31]\n",
      " [34]\n",
      " [37]\n",
      " [40]\n",
      " [43]\n",
      " [46]\n",
      " [49]]\n",
      "dimensions 2\n",
      "===================================\n",
      "[[ 1  4  7 10 13 16 19 22 25 28 31 34 37 40 43 46 49]]\n",
      "dimensions 2\n",
      "[[ 1]\n",
      " [ 4]\n",
      " [ 7]\n",
      " [10]\n",
      " [13]\n",
      " [16]\n",
      " [19]\n",
      " [22]\n",
      " [25]\n",
      " [28]\n",
      " [31]\n",
      " [34]\n",
      " [37]\n",
      " [40]\n",
      " [43]\n",
      " [46]\n",
      " [49]]\n",
      "dimensions 2\n"
     ]
    }
   ],
   "source": [
    "# Questions 4:\n",
    "# How to convert a 1D array into a 2D array? Demonstrate with the help of a code snippet, Hint: np.newaxis, np.expand_dims\n",
    "#1d\n",
    "x = np.arange(1,50,3)\n",
    "print(x)\n",
    "print('dimensions',x.ndim)\n",
    "print('===================================')\n",
    "# 2d with expand_dims\n",
    "y1 = np.expand_dims(x, axis=0)\n",
    "print(y1)\n",
    "print('dimensions',y1.ndim)\n",
    "\n",
    "y2 = np.expand_dims(x, axis=1)\n",
    "print(y2)\n",
    "print('dimensions',y2.ndim)\n",
    "print('===================================')\n",
    "# 2d with newaxis\n",
    "z1 = x[np.newaxis, :]\n",
    "print(z1)\n",
    "print('dimensions',z1.ndim)\n",
    "\n",
    "z2 = x[:, np.newaxis] \n",
    "print(z2)\n",
    "print('dimensions',z2.ndim)"
   ]
  },
  {
   "cell_type": "code",
   "execution_count": 5,
   "metadata": {},
   "outputs": [
    {
     "name": "stdout",
     "output_type": "stream",
     "text": [
      "[[1. 1. 1.]\n",
      " [1. 1. 1.]\n",
      " [1. 1. 1.]\n",
      " [0. 0. 0.]\n",
      " [0. 0. 0.]\n",
      " [0. 0. 0.]]\n",
      "======================\n",
      "[[1. 1. 1. 0. 0. 0.]\n",
      " [1. 1. 1. 0. 0. 0.]\n",
      " [1. 1. 1. 0. 0. 0.]]\n"
     ]
    }
   ],
   "source": [
    "# Questions 5:\n",
    "# Consider two square numpy arrays. Stack them vertically and horizontally. Hint: Use vstack(), hstack()\n",
    "x = np.ones((3,3))\n",
    "y = np.zeros((3,3))\n",
    "\n",
    "print(np.vstack((x,y)))\n",
    "print('======================')\n",
    "print(np.hstack((x,y)))"
   ]
  },
  {
   "cell_type": "code",
   "execution_count": 6,
   "metadata": {},
   "outputs": [
    {
     "name": "stdout",
     "output_type": "stream",
     "text": [
      "[1 2 3 4 5 8 9]\n",
      "(array([1, 2, 3, 4, 5, 8, 9]), array([1, 2, 2, 2, 2, 1, 1], dtype=int64))\n"
     ]
    }
   ],
   "source": [
    "# Questions 6:\n",
    "# How to get unique items and counts of unique items?\n",
    "x = np.array([2,2,1,4,3,5,3,5,9,8,4])\n",
    "y = np.unique(x)\n",
    "print(y)\n",
    "z = np.unique(x,return_counts=True)\n",
    "print(z)"
   ]
  }
 ],
 "metadata": {
  "kernelspec": {
   "display_name": "Python 3",
   "language": "python",
   "name": "python3"
  },
  "language_info": {
   "codemirror_mode": {
    "name": "ipython",
    "version": 3
   },
   "file_extension": ".py",
   "mimetype": "text/x-python",
   "name": "python",
   "nbconvert_exporter": "python",
   "pygments_lexer": "ipython3",
   "version": "3.8.3"
  }
 },
 "nbformat": 4,
 "nbformat_minor": 4
}
