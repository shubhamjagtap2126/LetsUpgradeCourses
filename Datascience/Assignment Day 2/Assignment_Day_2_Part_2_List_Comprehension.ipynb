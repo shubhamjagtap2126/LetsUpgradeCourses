{
 "cells": [
  {
   "cell_type": "markdown",
   "metadata": {},
   "source": [
    "# Assignment Day 2 Part 2 List Comprehension | Data Science 101 B1"
   ]
  },
  {
   "cell_type": "code",
   "execution_count": 1,
   "metadata": {},
   "outputs": [
    {
     "name": "stdout",
     "output_type": "stream",
     "text": [
      "[15, 2, 3, 24, 'blue', 'white', 'red', 'black', 20, 'India', 'TRUE', 22.33]\n"
     ]
    }
   ],
   "source": [
    "# Lists\n",
    "l1 = [15, 2, 3, 24]\n",
    "l2= ['blue', 'white','red','black' ]\n",
    "l3=[20, 'India','TRUE',22.33]\n",
    "l4 = l1 + l2 + l3\n",
    "print(l4)\n",
    "# print(len(l4))"
   ]
  },
  {
   "cell_type": "markdown",
   "metadata": {},
   "source": [
    "# Indices"
   ]
  },
  {
   "cell_type": "code",
   "execution_count": 2,
   "metadata": {},
   "outputs": [
    {
     "name": "stdout",
     "output_type": "stream",
     "text": [
      "#1 15\n",
      "#2 red\n",
      "#3 TRUE\n"
     ]
    }
   ],
   "source": [
    "#list[index] to get value from index position\n",
    "print(\"#1\",l1[0]) # value at index 0\n",
    "print(\"#2\",l2[-2]) # value at index -2\n",
    "print(\"#3\",l3[2]) # value at index 2"
   ]
  },
  {
   "cell_type": "markdown",
   "metadata": {},
   "source": [
    "# Slicing"
   ]
  },
  {
   "cell_type": "code",
   "execution_count": 3,
   "metadata": {},
   "outputs": [
    {
     "name": "stdout",
     "output_type": "stream",
     "text": [
      "#01 ['white', 'red', 'black', 20, 'India', 'TRUE', 22.33]\n",
      "#02 [15, 2, 3]\n",
      "#03 ['white', 'red', 'black', 20, 'India', 'TRUE', 22.33]\n",
      "#04 [15, 2, 3, 24, 'blue', 'white', 'red']\n",
      "================================================================\n",
      "#05 [3, 24, 'blue', 'white']\n",
      "#06 [3, 24, 'blue']\n",
      "#07 []\n",
      "#08 []\n"
     ]
    }
   ],
   "source": [
    "#list[start:stop] get Values\n",
    "print(\"#01\", l4[5:])\n",
    "print(\"#02\", l4[:3])\n",
    "print(\"#03\", l4[-7:])\n",
    "print(\"#04\", l4[:-5])\n",
    "print(\"================================================================\")\n",
    "#list[start:stop] get Values in between\n",
    "print(\"#05\", l4[2:6])\n",
    "print(\"#06\", l4[2:-7])\n",
    "print(\"#07\", l4[-2:6])\n",
    "print(\"#08\", l4[-2:-2])"
   ]
  },
  {
   "cell_type": "code",
   "execution_count": 4,
   "metadata": {},
   "outputs": [
    {
     "name": "stdout",
     "output_type": "stream",
     "text": [
      "#01 [15, 3, 'blue', 'red', 20, 'TRUE']\n",
      "#02 [15, 3]\n",
      "#03 [2, 'blue', 'black', 'TRUE']\n",
      "#04 [15, 3, 'blue', 'red', 20]\n",
      "#05 ['India', 22.33]\n",
      "================================================================\n",
      "#01 [22.33, 'TRUE', 'India', 20, 'black', 'red', 'white', 'blue', 24, 3, 2, 15]\n",
      "#02 [22.33, 'TRUE', 'India', 20, 'black', 'red', 'white', 'blue']\n",
      "#03 [2, 15]\n",
      "#04 [22.33, 'TRUE']\n",
      "#05 ['India', 'black', 'white', 24, 2]\n"
     ]
    }
   ],
   "source": [
    "#list[start:stop:step] slicing range with steps\n",
    "#slicing with positive/forward steps\n",
    "print(\"#01\", l4[::2]) # Values increment of 2 steps \n",
    "print(\"#02\", l4[:3:2])  # all Values with increment of 2 steps\n",
    "print(\"#03\", l4[1::3])  # all Values with increment of 3 steps\n",
    "print(\"#04\", l4[:-3:2]) # all Values with increment of 2 steps\n",
    "print(\"#05\", l4[-3::2]) # all Values with increment of 2 steps\n",
    "\n",
    "print(\"================================================================\")\n",
    "\n",
    "#slicing with negetive/reverse steps\n",
    "print(\"#01\", l4[::-1])\n",
    "print(\"#02\", l4[:3:-1])\n",
    "print(\"#03\", l4[1::-1])\n",
    "print(\"#04\", l4[:-3:-1])\n",
    "print(\"#05\", l4[-3::-2])\n"
   ]
  },
  {
   "cell_type": "code",
   "execution_count": 5,
   "metadata": {},
   "outputs": [
    {
     "name": "stdout",
     "output_type": "stream",
     "text": [
      "#1 [3, 'white', 20]\n",
      "#2 [3, 'blue']\n",
      "#3 []\n",
      "#4 []\n",
      "================================================================\n",
      "#1 []\n",
      "#2 []\n",
      "#3 ['TRUE', 20]\n",
      "#4 ['TRUE', 20, 'red']\n"
     ]
    }
   ],
   "source": [
    "#list[start:stop:step] slicing range with steps\n",
    "#positive/forward steps\n",
    "print(\"#1\", l4[2:10:3]) # \n",
    "print(\"#2\", l4[2:-7:2]) # \n",
    "print(\"#3\", l4[-2:7:2]) # \n",
    "print(\"#4\", l4[-2:-7:2]) # \n",
    "print(\"================================================================\")\n",
    "\n",
    "#negetive/reverse steps\n",
    "print(\"#1\", l4[2:10:-1]) # \n",
    "print(\"#2\", l4[2:-7:-2]) # \n",
    "print(\"#3\", l4[-2:7:-2]) # \n",
    "print(\"#4\", l4[-2:-7:-2]) # "
   ]
  },
  {
   "cell_type": "markdown",
   "metadata": {},
   "source": [
    "# Methods"
   ]
  },
  {
   "cell_type": "code",
   "execution_count": 6,
   "metadata": {},
   "outputs": [
    {
     "name": "stdout",
     "output_type": "stream",
     "text": [
      "#01 ['blue', 'white', 'red', 'black', 'yellow']\n",
      "#02 [15, 2, 3, 24, 21.6]\n",
      "#03 [15, 2, 'brown', 3, 24, 'blue', 'white', 'red', 'black', 20, 'India', 'TRUE', 22.33]\n",
      "#04 [15, 2, 'yellow', 3, 24, 'blue', 'white', 'red', 'black', 20, 'India', 'TRUE', 22.33]\n",
      "#05 [15, 3, 24, 21.6]\n",
      "#06 [15, 2, 3, 24, 'blue', 'white', 'red', 'black', 20, 'India', 'TRUE', 22.33]\n",
      "#07 ['blue', 'white', 'red', 'black', 'yellow']\n",
      "#08 [21.6, 24, 3, 15]\n",
      "#09 1\n",
      "#10 ['blue', 'white', 'red', 'black', 'yellow', 'g', 'r', 'e', 'e', 'n']\n",
      "#12 [3, 15, 21.6, 24]\n"
     ]
    }
   ],
   "source": [
    "l2.append(\"yellow\")\n",
    "print(\"#01\", l2)\n",
    "\n",
    "l1.append(21.6)\n",
    "print(\"#02\", l1)\n",
    "\n",
    "l4.insert(2, \"brown\")\n",
    "print(\"#03\", l4)\n",
    "\n",
    "l4[2]=\"yellow\"\n",
    "print(\"#04\", l4)\n",
    "\n",
    "l1.remove(2)\n",
    "print(\"#05\", l1)\n",
    "\n",
    "l3.clear()\n",
    "\n",
    "l4.pop(2)\n",
    "print(\"#06\", l4)\n",
    "\n",
    "l2.index(\"red\")\n",
    "print(\"#07\", l2)\n",
    "\n",
    "l1.reverse()\n",
    "print(\"#08\", l1)\n",
    "\n",
    "print(\"#09\", l2.count(\"yellow\"))\n",
    "\n",
    "l2.extend(\"green\")\n",
    "print(\"#10\", l2)\n",
    "\n",
    "l1.sort()\n",
    "print(\"#12\", l1)"
   ]
  }
 ],
 "metadata": {
  "kernelspec": {
   "display_name": "Python 3",
   "language": "python",
   "name": "python3"
  },
  "language_info": {
   "codemirror_mode": {
    "name": "ipython",
    "version": 3
   },
   "file_extension": ".py",
   "mimetype": "text/x-python",
   "name": "python",
   "nbconvert_exporter": "python",
   "pygments_lexer": "ipython3",
   "version": "3.8.3"
  }
 },
 "nbformat": 4,
 "nbformat_minor": 4
}
