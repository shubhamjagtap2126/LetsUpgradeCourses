{
 "cells": [
  {
   "cell_type": "markdown",
   "metadata": {},
   "source": [
    "# Assignment 1 Decorator function"
   ]
  },
  {
   "cell_type": "code",
   "execution_count": 1,
   "metadata": {},
   "outputs": [],
   "source": [
    "def Decoratorfunc(func):\n",
    "    def insideFunc():\n",
    "        print(\"<<<<<< Let's calculate fibonacci series >>>>>>>\")\n",
    "        value = int(input(\"Enter the value till you want the fibonacci series :\")) # to take the input value\n",
    "        func(value)\n",
    "    return insideFunc"
   ]
  },
  {
   "cell_type": "code",
   "execution_count": 2,
   "metadata": {},
   "outputs": [],
   "source": [
    "@Decoratorfunc\n",
    "def fibonacci(value = 10):\n",
    "    a, b = 0, 1 # initial values \n",
    "    while b < value: # loop till the value given by the user\n",
    "        print(b, end=', ') # print the series value\n",
    "        a, b = b, a + b # fibonacci series formula "
   ]
  },
  {
   "cell_type": "code",
   "execution_count": 3,
   "metadata": {},
   "outputs": [
    {
     "name": "stdout",
     "output_type": "stream",
     "text": [
      "<<<<<< Let's calculate fibonacci series >>>>>>>\n",
      "Enter the value till you want the fibonacci series :100\n",
      "1, 1, 2, 3, 5, 8, 13, 21, 34, 55, 89, "
     ]
    }
   ],
   "source": [
    "fibonacci()"
   ]
  },
  {
   "cell_type": "markdown",
   "metadata": {},
   "source": [
    "# Assignment 2 Generators"
   ]
  },
  {
   "cell_type": "code",
   "execution_count": 4,
   "metadata": {},
   "outputs": [
    {
     "data": {
      "text/plain": [
       "[1, 2, 3, 4, 5, 6, 7, 8, 9, 153, 370, 371, 407]"
      ]
     },
     "execution_count": 4,
     "metadata": {},
     "output_type": "execute_result"
    }
   ],
   "source": [
    "# Get Armstrong number with generators\n",
    "def armstrongNumber(num1,num2):\n",
    "    '''\n",
    "    This function filter out the Armstrong numbers from the range given by user.\n",
    "    This function include the Generators to get the number.\n",
    "    '''\n",
    "    for i in range(num1,num2):\n",
    "        order = len(str(i)) # this step to get the length of number\n",
    "        sum = 0 # used to add all number with digits to the power of length of number\n",
    "        digit = i\n",
    "        while digit > 0:\n",
    "            remainder = digit % 10 # take out the remainder digit\n",
    "            sum += remainder ** order # takes the sum of last digit to the power of length\n",
    "            digit //= 10 # to get remaining digits other than remainder\n",
    "\n",
    "        if i == sum:\n",
    "            yield i # this is generator to get the number back <<<<<<<========\n",
    "\n",
    "list(armstrongNumber(1,1000))"
   ]
  }
 ],
 "metadata": {
  "kernelspec": {
   "display_name": "Python 3",
   "language": "python",
   "name": "python3"
  },
  "language_info": {
   "codemirror_mode": {
    "name": "ipython",
    "version": 3
   },
   "file_extension": ".py",
   "mimetype": "text/x-python",
   "name": "python",
   "nbconvert_exporter": "python",
   "pygments_lexer": "ipython3",
   "version": "3.7.3"
  }
 },
 "nbformat": 4,
 "nbformat_minor": 2
}
