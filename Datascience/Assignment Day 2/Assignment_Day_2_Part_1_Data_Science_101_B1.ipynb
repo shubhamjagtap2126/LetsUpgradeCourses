{
 "cells": [
  {
   "cell_type": "markdown",
   "metadata": {},
   "source": [
    "# Assignment Day 2 Part 1 | Data Science 101 B1"
   ]
  },
  {
   "cell_type": "code",
   "execution_count": 1,
   "metadata": {},
   "outputs": [
    {
     "name": "stdout",
     "output_type": "stream",
     "text": [
      "5\n",
      "6\n",
      "2\n",
      "4\n",
      "1\n",
      "9\n",
      "55\n",
      "44\n",
      "32\n",
      "11\n",
      "[6, 2, 4, 44, 32]\n"
     ]
    }
   ],
   "source": [
    "# Questions 1:\n",
    "# Create an empty list. Accept 10 numbers from the user and append to it the list if it is an even number.\n",
    "l = []\n",
    "\n",
    "for i in range(10):\n",
    "  x = int(input())\n",
    "  if x % 2 == 0:\n",
    "    l.append(x)\n",
    "print(l) # printing only even number given by input gets appended to list"
   ]
  },
  {
   "cell_type": "code",
   "execution_count": 2,
   "metadata": {},
   "outputs": [],
   "source": [
    "# Questions 2: given in seperate notebook as LIST COMPREHENSION"
   ]
  },
  {
   "cell_type": "code",
   "execution_count": 3,
   "metadata": {},
   "outputs": [
    {
     "name": "stdout",
     "output_type": "stream",
     "text": [
      "6\n",
      "{1: 1, 2: 4, 3: 9, 4: 16, 5: 25, 6: 36}\n"
     ]
    }
   ],
   "source": [
    "# Questions 3:\n",
    "# In this assignment, given a number n, you have to write a program that generates a dictionary d which contains (i, i*i), where i is from 1 to n (both included). print this dictionary d.\n",
    "# Example: Input: 4 will give output as {1: 1, 2: 4, 3: 9, 4: 16}\n",
    "d = {}\n",
    "n = int(input())\n",
    "for i in range(1,n+1):\n",
    "  d[i] = i*i\n",
    "\n",
    "print(d)"
   ]
  },
  {
   "cell_type": "code",
   "execution_count": 4,
   "metadata": {},
   "outputs": [
    {
     "name": "stdout",
     "output_type": "stream",
     "text": [
      "Moves :3\n",
      "Insert direction and steps\n",
      "Eg:(UP,DOWN,LEFT,RIGHT) 2\n",
      "up 4\n",
      "Insert direction and steps\n",
      "Eg:(UP,DOWN,LEFT,RIGHT) 2\n",
      "right 5\n",
      "Insert direction and steps\n",
      "Eg:(UP,DOWN,LEFT,RIGHT) 2\n",
      "down 2\n",
      "5\n"
     ]
    }
   ],
   "source": [
    "# Questions 4:\n",
    "# The robot moves in a 2-D plane from the original point (0,0). The robot can move toward UP, DOWN, LEFT and RIGHT with given steps. \n",
    "# The trace of robot movement is shown as the following: UP 5 DOWN 3 LEFT 3 RIGHT 2 Then, output be: 2\n",
    "# Write a program to compute the distance between the current position after a sequence of movement and original point. \n",
    "\n",
    "# Input for the number of directions\n",
    "n = int(input('Moves :'))\n",
    "\n",
    "# to get directions and step to take\n",
    "origin = [0,0]\n",
    "m = 0\n",
    "while m < n:\n",
    "  action = input('Insert direction and steps\\nEg:(UP,DOWN,LEFT,RIGHT) 2\\n')\n",
    "  movement = action.split(\" \")\n",
    "  direction = movement[0].lower()\n",
    "  step = int(movement[1])\n",
    "  if direction == 'up':\n",
    "    origin[0] += step # increment in y axis\n",
    "  elif direction == 'down':\n",
    "    origin[0] -= step  # decrement in y axis\n",
    "  elif direction == 'left':\n",
    "    origin[1] -= step  # decrement in x axis\n",
    "  elif direction == 'right':\n",
    "    origin[1] += step  # increment in x axis\n",
    "  else:\n",
    "    pass\n",
    "  m += 1  \n",
    "\n",
    "# print the distance\n",
    "import math\n",
    "print(int(round(math.sqrt(origin[0]**2 + origin[1]**2))))"
   ]
  }
 ],
 "metadata": {
  "kernelspec": {
   "display_name": "Python 3",
   "language": "python",
   "name": "python3"
  },
  "language_info": {
   "codemirror_mode": {
    "name": "ipython",
    "version": 3
   },
   "file_extension": ".py",
   "mimetype": "text/x-python",
   "name": "python",
   "nbconvert_exporter": "python",
   "pygments_lexer": "ipython3",
   "version": "3.8.3"
  }
 },
 "nbformat": 4,
 "nbformat_minor": 4
}
