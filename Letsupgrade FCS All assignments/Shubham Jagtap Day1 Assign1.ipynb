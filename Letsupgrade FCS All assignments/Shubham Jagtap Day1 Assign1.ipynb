{
 "cells": [
  {
   "cell_type": "markdown",
   "metadata": {},
   "source": [
    "# 1. List\n",
    "#Methods Used\n",
    "- Append\n",
    "- pop\n",
    "- index\n",
    "- extend"
   ]
  },
  {
   "cell_type": "code",
   "execution_count": 1,
   "metadata": {},
   "outputs": [
    {
     "name": "stdout",
     "output_type": "stream",
     "text": [
      "1st list : [1, 2.0, 30, 'hi', 'world', [1, 10.3, 'yes']]\n",
      "-----------------------------------\n",
      "Appended list : [1, 2.0, 30, 'hi', 'world', [1, 10.3, 'yes'], 'Hello world!!!!!']\n",
      "-----------------------------------\n",
      "Index 2 element pop : 30\n",
      "-----------------------------------\n",
      "Index of string hi is : 2\n",
      "-----------------------------------\n",
      "Extended list : [1, 2.0, 'hi', 'world', [1, 10.3, 'yes'], 'Hello world!!!!!', 'a', 'd', 'd']\n"
     ]
    }
   ],
   "source": [
    "lst = [1,2.0,30,\"hi\",\"world\",[1,10.3,'yes']]\n",
    "print(\"1st list :\",lst)\n",
    "print(\"-----------------------------------\")\n",
    "lst.append(\"Hello world!!!!!\")\n",
    "print(\"Appended list :\",lst)\n",
    "print(\"-----------------------------------\")\n",
    "print(\"Index 2 element pop :\", lst.pop(2)) # remove 2nd index value\n",
    "print(\"-----------------------------------\")\n",
    "print(\"Index of string hi is :\" ,lst.index(\"hi\")) # get index of string\n",
    "print(\"-----------------------------------\")\n",
    "lst.extend(\"add\") # to add string with seperate alphabates\n",
    "print(\"Extended list :\",lst)"
   ]
  },
  {
   "cell_type": "markdown",
   "metadata": {},
   "source": [
    "# 2. Dictionary\n",
    "#Methods Used\n",
    "- items\n",
    "- get\n",
    "- keys\n",
    "- pop"
   ]
  },
  {
   "cell_type": "code",
   "execution_count": 2,
   "metadata": {},
   "outputs": [
    {
     "name": "stdout",
     "output_type": "stream",
     "text": [
      "Dictionary : dict_items([('fruit', 'apple'), ('animal', 'lion'), ('numb', 10), ('lst2', [1, 10, 2.3, 'hi'])])\n",
      "-----------------------------------\n",
      "Get item of animal key : lion\n",
      "-----------------------------------\n",
      "Print only keys : dict_keys(['fruit', 'animal', 'numb', 'lst2'])\n",
      "-----------------------------------\n",
      "pop 1st key item : apple\n"
     ]
    }
   ],
   "source": [
    "dct = {\"fruit\" : \"apple\", \"animal\" : \"lion\", \"numb\" : 10 , \"lst2\" : [1,10,2.3,\"hi\"]}\n",
    "print(\"Dictionary :\", dct.items())\n",
    "print(\"-----------------------------------\")\n",
    "print(\"Get item of animal key :\",dct.get('animal'))\n",
    "print(\"-----------------------------------\")\n",
    "print(\"Print only keys :\",dct.keys())\n",
    "print(\"-----------------------------------\")\n",
    "print(\"pop 1st key item :\",dct.pop(\"fruit\"))"
   ]
  },
  {
   "cell_type": "markdown",
   "metadata": {},
   "source": [
    "# 3. Tuple & explore default methods\n",
    "#Methods Used\n",
    "- index\n",
    "- count"
   ]
  },
  {
   "cell_type": "code",
   "execution_count": 3,
   "metadata": {},
   "outputs": [
    {
     "name": "stdout",
     "output_type": "stream",
     "text": [
      "How many times 2 is present in above tuples? : 5\n",
      "-----------------------------------\n",
      "What is index of element : 3\n"
     ]
    }
   ],
   "source": [
    "a = (1,2,3,4,1,2,3,2,2,2,1)\n",
    "print(\"How many times 2 is present in above tuples? :\",a.count(2))\n",
    "print(\"-----------------------------------\")\n",
    "print(\"What is index of element :\",a.index(4))"
   ]
  },
  {
   "cell_type": "markdown",
   "metadata": {},
   "source": [
    "# 4. Sets\n",
    "#Methods Used\n",
    "- Add\n",
    "- pop\n",
    "- union\n",
    "- clear"
   ]
  },
  {
   "cell_type": "code",
   "execution_count": 4,
   "metadata": {},
   "outputs": [
    {
     "name": "stdout",
     "output_type": "stream",
     "text": [
      "1st Set {1, 2, 3, 'mango', 'lion', 'apple', 44}\n",
      "-----------------------------------\n",
      "Added element at last : {1, 2, 3, 'mango', 'lion', 'new word', 'apple', 44}\n",
      "-----------------------------------\n",
      "Pop first element : 1\n",
      "-----------------------------------\n",
      "Union : {2, 3, 'mango', 'lion', 'new word', 'apple', 4, 5, 6, 7, 44, 55, 60.2}\n",
      "-----------------------------------\n"
     ]
    }
   ],
   "source": [
    "Sets = {1,1,1,2,2,2,3,3,44,44,44,\"apple\",\"apple\",\"mango\",\"lion\"}\n",
    "print(\"1st Set\",Sets)\n",
    "print(\"-----------------------------------\")\n",
    "Sets.add(\"new word\")\n",
    "print(\"Added element at last :\", Sets)\n",
    "print(\"-----------------------------------\")\n",
    "print(\"Pop first element :\",Sets.pop())\n",
    "print(\"-----------------------------------\")\n",
    "print(\"Union :\",Sets.union( {55,60.2},{4,4,4,5,6,7,7,7}))\n",
    "print(\"-----------------------------------\")\n",
    "Sets.clear()"
   ]
  },
  {
   "cell_type": "markdown",
   "metadata": {},
   "source": [
    "# 5. String & explore default methods\n",
    "#Methods Used\n",
    "- Upper\n",
    "- count\n",
    "- casefold\n",
    "- endswith\n",
    "- find\n",
    "- strip\n",
    "- split\n",
    "- splitlines\n",
    "- index"
   ]
  },
  {
   "cell_type": "code",
   "execution_count": 5,
   "metadata": {},
   "outputs": [
    {
     "name": "stdout",
     "output_type": "stream",
     "text": [
      "Hello my name is Shubham,  I am learning python programming. \n",
      "Thank you LetsUpgrade for online training\n",
      "----------------------------------------------------------\n",
      "UPPER method :\n",
      " HELLO MY NAME IS SHUBHAM,  I AM LEARNING PYTHON PROGRAMMING. \n",
      "THANK YOU LETSUPGRADE FOR ONLINE TRAINING\n",
      "----------------------------------------------------------\n",
      "How many 's' in string : 2\n",
      "----------------------------------------------------------\n",
      "hello my name is shubham,  i am learning python programming. \n",
      "thank you letsupgrade for online training\n",
      "----------------------------------------------------------\n",
      "True\n",
      "----------------------------------------------------------\n",
      "14\n",
      "----------------------------------------------------------\n",
      "Hello my name is Shubham,  I am learning python programming. \n",
      "Thank you LetsUpgrade for online training\n",
      "----------------------------------------------------------\n",
      "['Hello', 'my', 'name', 'is', 'Shubham,', 'I', 'am', 'learning', 'python', 'programming.', 'Thank', 'you', 'LetsUpgrade', 'for', 'online', 'training']\n",
      "----------------------------------------------------------\n",
      "['Hello my name is Shubham,  I am learning python programming. ', 'Thank you LetsUpgrade for online training']\n",
      "----------------------------------------------------------\n",
      "17\n"
     ]
    }
   ],
   "source": [
    "name = str(\"Hello my name is Shubham,  I am learning python programming. \\nThank you LetsUpgrade for online training\")\n",
    "print(name)\n",
    "print(\"----------------------------------------------------------\")\n",
    "print(\"UPPER method :\\n\", name.upper())\n",
    "print(\"----------------------------------------------------------\")\n",
    "print(\"How many 's' in string :\", name.count(\"s\"))\n",
    "print(\"----------------------------------------------------------\")\n",
    "print(name.casefold())\n",
    "print(\"----------------------------------------------------------\")\n",
    "print(name.endswith(\"ning\"))\n",
    "print(\"----------------------------------------------------------\")\n",
    "print(name.find(\"i\"))\n",
    "print(\"----------------------------------------------------------\")\n",
    "print(name.strip())\n",
    "print(\"----------------------------------------------------------\")\n",
    "print(name.split()) # Splits String from Left\n",
    "print(\"----------------------------------------------------------\")\n",
    "print(name.splitlines()) #Splits String at Line\n",
    "print(\"----------------------------------------------------------\")\n",
    "print(name.index(\"Shubham\"))"
   ]
  }
 ],
 "metadata": {
  "kernelspec": {
   "display_name": "Python 3",
   "language": "python",
   "name": "python3"
  },
  "language_info": {
   "codemirror_mode": {
    "name": "ipython",
    "version": 3
   },
   "file_extension": ".py",
   "mimetype": "text/x-python",
   "name": "python",
   "nbconvert_exporter": "python",
   "pygments_lexer": "ipython3",
   "version": "3.7.3"
  }
 },
 "nbformat": 4,
 "nbformat_minor": 2
}
