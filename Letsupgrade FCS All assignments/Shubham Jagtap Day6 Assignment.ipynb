{
 "cells": [
  {
   "cell_type": "markdown",
   "metadata": {},
   "source": [
    "# Assignment 1\n",
    "Create a bank account class:"
   ]
  },
  {
   "cell_type": "code",
   "execution_count": 1,
   "metadata": {},
   "outputs": [
    {
     "name": "stdout",
     "output_type": "stream",
     "text": [
      "Please insert your name to create an account :shubham\n",
      "Hello Shubham ! Welcome to Letsupgrade bank!\n",
      "Please enter ammount to deposite :10\n",
      "Thank for your Deposite of amount : Rs. 10.0\n",
      "Please enter ammount to withdraw :12\n",
      "You've Insufficiant balance to withraw Rs. 12.0\n",
      "Your current balance is : Rs. 10.0\n"
     ]
    }
   ],
   "source": [
    "'''\n",
    "This is class to create bank account\n",
    "'''\n",
    "class BankAccount:\n",
    "    '''\n",
    "    In this class we use\n",
    "    two attributes - onwer_name and balance\n",
    "    two methods - deposite, withdraw and line to show the account balance\n",
    "    '''\n",
    "    owner = \"\"\n",
    "    balance = 0\n",
    "\n",
    "    def __init__(self, balance, owner):\n",
    "        '''\n",
    "        Initialise function to register the account holder and greet from the bank\n",
    "        '''\n",
    "        self.balance = balance\n",
    "        owner = input(\"Please insert your name to create an account :\")\n",
    "        self.owner = owner\n",
    "        print(\"Hello\", owner.title(), \"! Welcome to Letsupgrade bank!\")\n",
    "        # print(\"########################################################\")\n",
    "\n",
    "    def deposite(self):\n",
    "        '''\n",
    "        This method is used for the deposit amount into bank balance\n",
    "        '''\n",
    "        amount = float(input(\"Please enter ammount to deposite :\"))\n",
    "        self.balance += amount\n",
    "        print(\"Thank for your Deposite of amount : Rs.\", amount)\n",
    "\n",
    "    def withdraw(self):\n",
    "        '''\n",
    "        This method is used to withdraw amount from bank balance\n",
    "        '''\n",
    "        amount = float(input(\"Please enter ammount to withdraw :\"))\n",
    "        if amount <= self.balance:\n",
    "            self.balance -= amount\n",
    "            print(\"Thank for your Deposite of amount : Rs.\", amount)\n",
    "            print(\"your current balance is : Rs.\", self.balance)\n",
    "        else:\n",
    "            print(\"You've Insufficiant balance to withraw Rs.\", amount)\n",
    "            print(\"Your current balance is : Rs.\", self.balance)\n",
    "\n",
    "# an object class\n",
    "account = BankAccount(0, \"owner\")\n",
    "\n",
    "# two methods\n",
    "account.deposite()\n",
    "account.withdraw()\n"
   ]
  },
  {
   "cell_type": "markdown",
   "metadata": {},
   "source": [
    "# Assignment 2\n",
    "Create cone class:"
   ]
  },
  {
   "cell_type": "code",
   "execution_count": 18,
   "metadata": {},
   "outputs": [
    {
     "name": "stdout",
     "output_type": "stream",
     "text": [
      "Writing createConeClass.py\n"
     ]
    }
   ],
   "source": [
    "'''\n",
    "This is codeblock to create cone class\n",
    "'''\n",
    "import math\n",
    "class cone:\n",
    "    '''\n",
    "    In this classs we use\n",
    "    two attributes - Radius and Height\n",
    "    two methods - Volume and SurfaceArea\n",
    "    '''\n",
    "    r = 0\n",
    "    h = 0\n",
    "    \n",
    "    def __init__(self,r,h):\n",
    "        '''\n",
    "        Initialising with input values of height and radius\n",
    "        '''\n",
    "        r = int(input(\"Insert the radius of cone :\"))\n",
    "        self.r = r\n",
    "        h = int(input(\"Insert the height of cone :\"))\n",
    "        self.h = h\n",
    "    \n",
    "    def Volume(self):\n",
    "        '''\n",
    "        Calculating the volume of cone\n",
    "        '''\n",
    "        volume = math.pi * (self.r)**2 * (self.h/3)\n",
    "        print(\"Volume of the cone :\", volume)\n",
    "        \n",
    "    def SurfaceArea(self):\n",
    "        '''\n",
    "        Calculating the SurfaceArea of cone\n",
    "        '''\n",
    "        base = math.pi * (self.r)**2\n",
    "        side = math.pi * (self.r) * math.sqrt((self.r)**2 + (self.h)**2)\n",
    "        surfacearea = base + side\n",
    "        print(\"Surfacearea of the cone :\", surfacearea)       \n",
    "\n",
    "# an object class\n",
    "cone = cone(0,0)\n",
    "\n",
    "# two methods\n",
    "cone.Volume()\n",
    "cone.SurfaceArea()\n"
   ]
  },
  {
   "cell_type": "code",
   "execution_count": 26,
   "metadata": {},
   "outputs": [],
   "source": [
    "# ! pylint create_cone_class.py"
   ]
  },
  {
   "cell_type": "code",
   "execution_count": null,
   "metadata": {},
   "outputs": [],
   "source": []
  }
 ],
 "metadata": {
  "kernelspec": {
   "display_name": "Python 3",
   "language": "python",
   "name": "python3"
  },
  "language_info": {
   "codemirror_mode": {
    "name": "ipython",
    "version": 3
   },
   "file_extension": ".py",
   "mimetype": "text/x-python",
   "name": "python",
   "nbconvert_exporter": "python",
   "pygments_lexer": "ipython3",
   "version": "3.7.3"
  }
 },
 "nbformat": 4,
 "nbformat_minor": 2
}
