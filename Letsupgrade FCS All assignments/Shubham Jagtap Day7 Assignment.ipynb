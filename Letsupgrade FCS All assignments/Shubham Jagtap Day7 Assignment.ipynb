{
 "cells": [
  {
   "cell_type": "markdown",
   "metadata": {},
   "source": [
    "# Assignment - Error Handling"
   ]
  },
  {
   "cell_type": "code",
   "execution_count": 1,
   "metadata": {},
   "outputs": [
    {
     "name": "stdout",
     "output_type": "stream",
     "text": [
      "You have received an error : not writable \n",
      "Please kindly check the code.\n"
     ]
    }
   ],
   "source": [
    "# to create the file \n",
    "file = open(\"textpad.txt\", \"w\")\n",
    "file.write(\"hello\")\n",
    "file.close()\n",
    "\n",
    "# code to handle and printing an error while the write action\n",
    "file = open(\"textpad.txt\", \"r\")\n",
    "try:\n",
    "    file.write(\"Hello, Its really fun to learn Error handling in python\")\n",
    "except Exception as e:\n",
    "    print(\"You have received an error :\", e,\"\\nPlease kindly check the code.\")"
   ]
  },
  {
   "cell_type": "markdown",
   "metadata": {},
   "source": [
    "# Assignment - Unit Testing"
   ]
  },
  {
   "cell_type": "code",
   "execution_count": 2,
   "metadata": {},
   "outputs": [
    {
     "name": "stdout",
     "output_type": "stream",
     "text": [
      "Overwriting prime_number_check.py\n"
     ]
    }
   ],
   "source": [
    "%%writefile prime_number_check.py\n",
    "'''\n",
    "Function to check the input number is prime number or not.\n",
    "'''\n",
    "def prime_number(value):\n",
    "    '''\n",
    "    This function takes one number to check the situation\n",
    "    '''\n",
    "    if value >= 2:\n",
    "        for i in range(2, value):\n",
    "            if (value % i) == 0:\n",
    "                return \"Not a Prime Number\"\n",
    "                break\n",
    "        else:\n",
    "            return \"Prime Number\"\n",
    "    else:\n",
    "        return \"Not a Prime Number\"\n",
    "\n",
    "# function to check the value\n",
    "# type(prime_number(9))\n",
    "# print(prime_number(7))"
   ]
  },
  {
   "cell_type": "code",
   "execution_count": 3,
   "metadata": {},
   "outputs": [
    {
     "name": "stdout",
     "output_type": "stream",
     "text": [
      "************* Module prime_number_check\n",
      "prime_number_check.py:12:16: W0101: Unreachable code (unreachable)\n",
      "\n",
      "------------------------------------------------------------------\n",
      "\n",
      "Your code has been rated at 8.75/10 (previous run: 8.75/10, +0.00)\n",
      "\n",
      "\n",
      "\n"
     ]
    }
   ],
   "source": [
    "# pylint testing of above file\n",
    "! pylint prime_number_check.py"
   ]
  },
  {
   "cell_type": "code",
   "execution_count": 4,
   "metadata": {},
   "outputs": [
    {
     "name": "stdout",
     "output_type": "stream",
     "text": [
      "Overwriting prime_number_check_test.py\n"
     ]
    }
   ],
   "source": [
    "%%writefile prime_number_check_test.py\n",
    "# unite testing\n",
    "import unittest\n",
    "import prime_number_check\n",
    "\n",
    "class TestString(unittest.TestCase):\n",
    "    def testone(self):\n",
    "        trialnum1 = 7\n",
    "        result = str(prime_number_check.prime_number(trialnum1))\n",
    "        self.assertEqual(result, \"Prime Number\")\n",
    "\n",
    "    def testtwo(self):\n",
    "        trailnum2 = 25\n",
    "        result = str(prime_number_check.prime_number(trailnum2))\n",
    "        self.assertEqual(result, \"Not a Prime Number\")\n",
    "\n",
    "\n",
    "if __name__ == \"__main__\":\n",
    "    unittest.main()"
   ]
  },
  {
   "cell_type": "code",
   "execution_count": 5,
   "metadata": {},
   "outputs": [
    {
     "name": "stderr",
     "output_type": "stream",
     "text": [
      "..\n",
      "----------------------------------------------------------------------\n",
      "Ran 2 tests in 0.000s\n",
      "\n",
      "OK\n"
     ]
    }
   ],
   "source": [
    "! python prime_number_check_test.py"
   ]
  },
  {
   "cell_type": "code",
   "execution_count": null,
   "metadata": {},
   "outputs": [],
   "source": []
  }
 ],
 "metadata": {
  "kernelspec": {
   "display_name": "Python 3",
   "language": "python",
   "name": "python3"
  },
  "language_info": {
   "codemirror_mode": {
    "name": "ipython",
    "version": 3
   },
   "file_extension": ".py",
   "mimetype": "text/x-python",
   "name": "python",
   "nbconvert_exporter": "python",
   "pygments_lexer": "ipython3",
   "version": "3.7.3"
  }
 },
 "nbformat": 4,
 "nbformat_minor": 2
}
