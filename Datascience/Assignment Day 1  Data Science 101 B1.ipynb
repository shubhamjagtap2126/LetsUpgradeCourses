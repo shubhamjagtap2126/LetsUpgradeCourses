{
 "cells": [
  {
   "cell_type": "markdown",
   "metadata": {
    "id": "y3QGxDjxxiQi"
   },
   "source": [
    "# Assignment Day 1 | Data Science 101 B1"
   ]
  },
  {
   "cell_type": "code",
   "execution_count": 1,
   "metadata": {
    "colab": {
     "base_uri": "https://localhost:8080/",
     "height": 137
    },
    "id": "VJzNYsr6pZIy",
    "outputId": "9e2c6cc8-99b7-4f92-b3ec-f31d7338382b"
   },
   "outputs": [
    {
     "name": "stdout",
     "output_type": "stream",
     "text": [
      "OBANWRI guess the correct English word.\n",
      "A. RANIBOW \n",
      "B. RAINBOW\n",
      "C. BOWRANI\n",
      "D. ROBWANI\n",
      "c\n"
     ]
    },
    {
     "data": {
      "text/plain": [
       "'c'"
      ]
     },
     "execution_count": 1,
     "metadata": {},
     "output_type": "execute_result"
    }
   ],
   "source": [
    "# Questions 1:\n",
    "print(\"OBANWRI guess the correct English word.\")\n",
    "print(\"A. RANIBOW \\nB. RAINBOW\\nC. BOWRANI\\nD. ROBWANI\")\n",
    "input()"
   ]
  },
  {
   "cell_type": "code",
   "execution_count": 3,
   "metadata": {
    "colab": {
     "base_uri": "https://localhost:8080/"
    },
    "id": "Y2sqqzQMp_2U",
    "outputId": "cb9147d7-27eb-4e39-944c-47eacd894506"
   },
   "outputs": [
    {
     "name": "stdout",
     "output_type": "stream",
     "text": [
      "LETS UPGRADE\n"
     ]
    }
   ],
   "source": [
    "# Questions 2:\n",
    "print(\"LETS UPGRADE\")"
   ]
  },
  {
   "cell_type": "code",
   "execution_count": 4,
   "metadata": {
    "colab": {
     "base_uri": "https://localhost:8080/"
    },
    "id": "MT5MEi4fp_6P",
    "outputId": "03f194b4-cecb-4805-9511-fb90da01a088"
   },
   "outputs": [
    {
     "name": "stdout",
     "output_type": "stream",
     "text": [
      "25\n",
      "45\n",
      "Profit\n"
     ]
    }
   ],
   "source": [
    "# Questions 3:\n",
    "\n",
    "cost_price = input()\n",
    "selling_price = input()\n",
    "if selling_price > cost_price :\n",
    "  print(\"Profit\")\n",
    "elif selling_price < cost_price:\n",
    "  print(\"Loss\")\n",
    "else:\n",
    "  print(\"Neither\")"
   ]
  },
  {
   "cell_type": "code",
   "execution_count": 5,
   "metadata": {
    "colab": {
     "base_uri": "https://localhost:8080/"
    },
    "id": "BQmXFvROp_zy",
    "outputId": "61ab5342-e610-48ac-90d8-51c2e88b3a0b"
   },
   "outputs": [
    {
     "name": "stdout",
     "output_type": "stream",
     "text": [
      "45\n",
      "1 Euro equals Rs. 87\n",
      "3915\n"
     ]
    }
   ],
   "source": [
    "# Questions 4:\n",
    "Euros = int(input())\n",
    "x = Euros * 87\n",
    "print(\"1 Euro equals Rs. 87\")\n",
    "print(x)\n"
   ]
  }
 ],
 "metadata": {
  "colab": {
   "collapsed_sections": [],
   "name": "Test.ipynb",
   "provenance": [],
   "toc_visible": true
  },
  "kernelspec": {
   "display_name": "Python 3",
   "language": "python",
   "name": "python3"
  },
  "language_info": {
   "codemirror_mode": {
    "name": "ipython",
    "version": 3
   },
   "file_extension": ".py",
   "mimetype": "text/x-python",
   "name": "python",
   "nbconvert_exporter": "python",
   "pygments_lexer": "ipython3",
   "version": "3.8.3"
  }
 },
 "nbformat": 4,
 "nbformat_minor": 1
}
